{
 "cells": [
  {
   "cell_type": "code",
   "execution_count": 1,
   "metadata": {},
   "outputs": [],
   "source": [
    "import time\n",
    "start = time.time()\n",
    "import re \n",
    "import numpy as np\n",
    "import pandas as pd\n",
    "import nltk\n",
    "import pickle\n",
    "from nltk.corpus import stopwords\n",
    "from nltk.stem.porter import PorterStemmer\n",
    "from sklearn.model_selection import train_test_split\n",
    "from sklearn.metrics import confusion_matrix, accuracy_score, classification_report\n",
    "from sklearn.feature_extraction.text import TfidfVectorizer\n",
    "from datetime import datetime as dt\n",
    "#-----------------------------------------------------\n",
    "from sklearn.linear_model import LogisticRegression\n",
    "from sklearn.neighbors import KNeighborsClassifier\n",
    "from sklearn.svm import SVC\n",
    "from sklearn.naive_bayes import GaussianNB\n",
    "from sklearn.naive_bayes import BernoulliNB\n",
    "from sklearn.naive_bayes import MultinomialNB\n",
    "from sklearn.tree import DecisionTreeClassifier\n",
    "from sklearn.ensemble import RandomForestClassifier\n",
    "#----------------------------------------------------\n",
    "import matplotlib.pyplot as plt\n",
    "%matplotlib inline\n",
    "from IPython.display import Markdown, display\n",
    "import warnings \n",
    "warnings.filterwarnings(\"ignore\")"
   ]
  },
  {
   "cell_type": "code",
   "execution_count": 2,
   "metadata": {},
   "outputs": [
    {
     "data": {
      "text/html": [
       "<div>\n",
       "<style scoped>\n",
       "    .dataframe tbody tr th:only-of-type {\n",
       "        vertical-align: middle;\n",
       "    }\n",
       "\n",
       "    .dataframe tbody tr th {\n",
       "        vertical-align: top;\n",
       "    }\n",
       "\n",
       "    .dataframe thead th {\n",
       "        text-align: right;\n",
       "    }\n",
       "</style>\n",
       "<table border=\"1\" class=\"dataframe\">\n",
       "  <thead>\n",
       "    <tr style=\"text-align: right;\">\n",
       "      <th></th>\n",
       "      <th>label</th>\n",
       "      <th>review</th>\n",
       "    </tr>\n",
       "  </thead>\n",
       "  <tbody>\n",
       "    <tr>\n",
       "      <th>0</th>\n",
       "      <td>neg</td>\n",
       "      <td>how do films like mouse hunt get into theatres...</td>\n",
       "    </tr>\n",
       "    <tr>\n",
       "      <th>1</th>\n",
       "      <td>neg</td>\n",
       "      <td>some talented actresses are blessed with a dem...</td>\n",
       "    </tr>\n",
       "    <tr>\n",
       "      <th>2</th>\n",
       "      <td>pos</td>\n",
       "      <td>this has been an extraordinary year for austra...</td>\n",
       "    </tr>\n",
       "    <tr>\n",
       "      <th>3</th>\n",
       "      <td>pos</td>\n",
       "      <td>according to hollywood movies made in last few...</td>\n",
       "    </tr>\n",
       "    <tr>\n",
       "      <th>4</th>\n",
       "      <td>neg</td>\n",
       "      <td>my first press screening of 1998 and already i...</td>\n",
       "    </tr>\n",
       "  </tbody>\n",
       "</table>\n",
       "</div>"
      ],
      "text/plain": [
       "  label                                             review\n",
       "0   neg  how do films like mouse hunt get into theatres...\n",
       "1   neg  some talented actresses are blessed with a dem...\n",
       "2   pos  this has been an extraordinary year for austra...\n",
       "3   pos  according to hollywood movies made in last few...\n",
       "4   neg  my first press screening of 1998 and already i..."
      ]
     },
     "execution_count": 2,
     "metadata": {},
     "output_type": "execute_result"
    }
   ],
   "source": [
    "dataset = pd.read_csv('moviereviews.tsv', sep = '\\t')\n",
    "dataset.head()"
   ]
  },
  {
   "cell_type": "code",
   "execution_count": 3,
   "metadata": {},
   "outputs": [
    {
     "data": {
      "text/plain": [
       "2000"
      ]
     },
     "execution_count": 3,
     "metadata": {},
     "output_type": "execute_result"
    }
   ],
   "source": [
    "len(dataset)"
   ]
  },
  {
   "cell_type": "markdown",
   "metadata": {},
   "source": [
    "# Take a look at a typical review. This one is labeled \"negative\""
   ]
  },
  {
   "cell_type": "code",
   "execution_count": 4,
   "metadata": {},
   "outputs": [
    {
     "data": {
      "text/plain": [
       "'how do films like mouse hunt get into theatres ? \\r\\nisn\\'t there a law or something ? \\r\\nthis diabolical load of claptrap from steven speilberg\\'s dreamworks studio is hollywood family fare at its deadly worst . \\r\\nmouse hunt takes the bare threads of a plot and tries to prop it up with overacting and flat-out stupid slapstick that makes comedies like jingle all the way look decent by comparison . \\r\\nwriter adam rifkin and director gore verbinski are the names chiefly responsible for this swill . \\r\\nthe plot , for what its worth , concerns two brothers ( nathan lane and an appalling lee evens ) who inherit a poorly run string factory and a seemingly worthless house from their eccentric father . \\r\\ndeciding to check out the long-abandoned house , they soon learn that it\\'s worth a fortune and set about selling it in auction to the highest bidder . \\r\\nbut battling them at every turn is a very smart mouse , happy with his run-down little abode and wanting it to stay that way . \\r\\nthe story alternates between unfunny scenes of the brothers bickering over what to do with their inheritance and endless action sequences as the two take on their increasingly determined furry foe . \\r\\nwhatever promise the film starts with soon deteriorates into boring dialogue , terrible overacting , and increasingly uninspired slapstick that becomes all sound and fury , signifying nothing . \\r\\nthe script becomes so unspeakably bad that the best line poor lee evens can utter after another run in with the rodent is : \" i hate that mouse \" . \\r\\noh cringe ! \\r\\nthis is home alone all over again , and ten times worse . \\r\\none touching scene early on is worth mentioning . \\r\\nwe follow the mouse through a maze of walls and pipes until he arrives at his makeshift abode somewhere in a wall . \\r\\nhe jumps into a tiny bed , pulls up a makeshift sheet and snuggles up to sleep , seemingly happy and just wanting to be left alone . \\r\\nit\\'s a magical little moment in an otherwise soulless film . \\r\\na message to speilberg : if you want dreamworks to be associated with some kind of artistic credibility , then either give all concerned in mouse hunt a swift kick up the arse or hire yourself some decent writers and directors . \\r\\nthis kind of rubbish will just not do at all . \\r\\n'"
      ]
     },
     "execution_count": 4,
     "metadata": {},
     "output_type": "execute_result"
    }
   ],
   "source": [
    "#Original\n",
    "dataset['review'][0]"
   ]
  },
  {
   "cell_type": "code",
   "execution_count": 5,
   "metadata": {},
   "outputs": [
    {
     "data": {
      "text/markdown": [
       "> how do films like mouse hunt get into theatres ? \r\n",
       "isn't there a law or something ? \r\n",
       "this diabolical load of claptrap from steven speilberg's dreamworks studio is hollywood family fare at its deadly worst . \r\n",
       "mouse hunt takes the bare threads of a plot and tries to prop it up with overacting and flat-out stupid slapstick that makes comedies like jingle all the way look decent by comparison . \r\n",
       "writer adam rifkin and director gore verbinski are the names chiefly responsible for this swill . \r\n",
       "the plot , for what its worth , concerns two brothers ( nathan lane and an appalling lee evens ) who inherit a poorly run string factory and a seemingly worthless house from their eccentric father . \r\n",
       "deciding to check out the long-abandoned house , they soon learn that it's worth a fortune and set about selling it in auction to the highest bidder . \r\n",
       "but battling them at every turn is a very smart mouse , happy with his run-down little abode and wanting it to stay that way . \r\n",
       "the story alternates between unfunny scenes of the brothers bickering over what to do with their inheritance and endless action sequences as the two take on their increasingly determined furry foe . \r\n",
       "whatever promise the film starts with soon deteriorates into boring dialogue , terrible overacting , and increasingly uninspired slapstick that becomes all sound and fury , signifying nothing . \r\n",
       "the script becomes so unspeakably bad that the best line poor lee evens can utter after another run in with the rodent is : \" i hate that mouse \" . \r\n",
       "oh cringe ! \r\n",
       "this is home alone all over again , and ten times worse . \r\n",
       "one touching scene early on is worth mentioning . \r\n",
       "we follow the mouse through a maze of walls and pipes until he arrives at his makeshift abode somewhere in a wall . \r\n",
       "he jumps into a tiny bed , pulls up a makeshift sheet and snuggles up to sleep , seemingly happy and just wanting to be left alone . \r\n",
       "it's a magical little moment in an otherwise soulless film . \r\n",
       "a message to speilberg : if you want dreamworks to be associated with some kind of artistic credibility , then either give all concerned in mouse hunt a swift kick up the arse or hire yourself some decent writers and directors . \r\n",
       "this kind of rubbish will just not do at all . \r\n"
      ],
      "text/plain": [
       "<IPython.core.display.Markdown object>"
      ]
     },
     "metadata": {},
     "output_type": "display_data"
    }
   ],
   "source": [
    "#A bit of a sophictated display\n",
    "display(Markdown('> '+dataset['review'][0]))"
   ]
  },
  {
   "cell_type": "code",
   "execution_count": 6,
   "metadata": {},
   "outputs": [
    {
     "data": {
      "text/plain": [
       "pos    1000\n",
       "neg    1000\n",
       "Name: label, dtype: int64"
      ]
     },
     "execution_count": 6,
     "metadata": {},
     "output_type": "execute_result"
    }
   ],
   "source": [
    "dataset['label'].value_counts()"
   ]
  },
  {
   "cell_type": "code",
   "execution_count": 7,
   "metadata": {},
   "outputs": [
    {
     "data": {
      "text/plain": [
       "label      0\n",
       "review    35\n",
       "dtype: int64"
      ]
     },
     "execution_count": 7,
     "metadata": {},
     "output_type": "execute_result"
    }
   ],
   "source": [
    "#Droping the Null value coloum\n",
    "dataset.isnull().sum()"
   ]
  },
  {
   "cell_type": "code",
   "execution_count": 8,
   "metadata": {},
   "outputs": [],
   "source": [
    "dataset.dropna(inplace=True)"
   ]
  },
  {
   "cell_type": "code",
   "execution_count": 9,
   "metadata": {},
   "outputs": [
    {
     "name": "stdout",
     "output_type": "stream",
     "text": [
      "neg    983\n",
      "pos    982\n",
      "Name: label, dtype: int64\n",
      "1965\n"
     ]
    }
   ],
   "source": [
    "print(dataset['label'].value_counts())\n",
    "print(len(dataset))"
   ]
  },
  {
   "cell_type": "code",
   "execution_count": 10,
   "metadata": {
    "scrolled": false
   },
   "outputs": [
    {
     "name": "stdout",
     "output_type": "stream",
     "text": [
      "27\n",
      "Index location of Blanks:  [57, 71, 147, 151, 283, 307, 313, 323, 343, 351, 427, 501, 633, 675, 815, 851, 977, 1079, 1299, 1455, 1493, 1525, 1531, 1763, 1851, 1905, 1993]\n"
     ]
    }
   ],
   "source": [
    "# Removing whitespace if any\n",
    "\n",
    "blank = [] # start with an empty list\n",
    "\n",
    "for i, lb, rv in dataset.itertuples():    # iterating over the DataFrame\n",
    "    if type(rv) == str:               # avoid NaN values\n",
    "        if rv.isspace():              # test 'review' for whitespace\n",
    "            blank.append(i)           # add matching index numbers to the list\n",
    "\n",
    "print(len(blank))\n",
    "print('Index location of Blanks: ',blank)"
   ]
  },
  {
   "cell_type": "code",
   "execution_count": 11,
   "metadata": {},
   "outputs": [
    {
     "name": "stdout",
     "output_type": "stream",
     "text": [
      "pos    969\n",
      "neg    969\n",
      "Name: label, dtype: int64\n",
      "1938\n"
     ]
    }
   ],
   "source": [
    "#Droping the blank index locations\n",
    "dataset.drop(blank, inplace=True)\n",
    "print(dataset['label'].value_counts())\n",
    "print(len(dataset))"
   ]
  },
  {
   "cell_type": "code",
   "execution_count": 12,
   "metadata": {},
   "outputs": [],
   "source": [
    "#Independent and dependent variables\n",
    "X = dataset['review']\n",
    "Y = dataset['label']"
   ]
  },
  {
   "cell_type": "code",
   "execution_count": 13,
   "metadata": {},
   "outputs": [
    {
     "name": "stdout",
     "output_type": "stream",
     "text": [
      "0    0\n",
      "1    0\n",
      "2    1\n",
      "3    1\n",
      "4    0\n",
      "Name: label, dtype: int64\n"
     ]
    }
   ],
   "source": [
    "# Mapping \"pos\" to 1 and \"neg\" to 0\n",
    "dataset['label'] = dataset['label'].map({\"pos\" : 1, \"neg\" : 0})\n",
    "print(dataset['label'].head())"
   ]
  },
  {
   "cell_type": "code",
   "execution_count": 14,
   "metadata": {},
   "outputs": [
    {
     "name": "stdout",
     "output_type": "stream",
     "text": [
      "a couple of months ago , when i first downloaded the face/off trailer from the net , my initial reaction was a fourteen carrot gold 'yawn' . \r\n",
      "followed swiftly by a press of my computers delete key , not wanting to waste six or seven megabytes of precious space on this piss-poor trailer . \r\n",
      "then i started reading the first wave of reviews from the u . s . . . . . unique . . . excellent . . . . must-see . \r\n",
      "well , i thought still skeptical , i suppose i might as well go see it when it gets here . \r\n",
      "'here' , of course , was still three months away . \r\n",
      "i'll admit , when i trotted off to see this film , the only john woo movie i had seen before was the fairly enjoyable but highly forgetable broken arrow . \r\n",
      "i'd heard good things about his previous work with movies like hard boiled , but his films were definitely not on my must-see list . \r\n",
      "that , let me tell you , has changed completely . \r\n",
      "i knew this fact only five minutes into the film , after the brilliantly shot and acted opening sequence where sean archer loses his son blew me off my feet . \r\n",
      "the acting throughout the film is staggeringly good for an action flick . \r\n",
      "seriously . \r\n",
      "i've never been a big john travolta fan , but he , like cage , perfectly suited his role in the movie . . . . . sorry , \r\n",
      "make that 'roles' in the movie . \r\n",
      "even travolta's great performance , however , paled in comparison to cage's character portrayals . \r\n",
      "my favourite cage scene was definitely when he was crashed out in compardre dietrich hassler's hideout . \r\n",
      "half drugged out of his mind , he sits there reclining back in a chair talking about his son's death from castor's perspective - \" doesn't it just break your heart . \" he mutters coldly . \r\n",
      "now don't go thinking from the previous comments about brilliant acting that this is a drama focused movie - it's not . \r\n",
      "that's what really makes this movie unique . \r\n",
      "it's an action movie with brilliantly portrayed characters . . . . . not a common mix at all . \r\n",
      "suspension of disbelief is paramount in this movie though . . . . . that's \r\n",
      "the only way to overlook the fact that travolta and cage fire around 5671 rounds at each other . . . . and \r\n",
      "never hit . \r\n",
      "several action scenes are just so well choreographed that they just make wish that you could press 'rewind' and watch it over again . \r\n",
      "the part where archer and troy have a stand off on either side of a double-sided mirror is just plain brilliant . \r\n",
      "whilst cage's and travolta's performances would be enough alone to sustain most movies , the lesser characters are just as intriguing . \r\n",
      "joan allen , who usually sticks to the straight drama movies , plays her part perfectly as archer's long suffering wife . \r\n",
      "i like the fact that her character didn't end up toting a gun at the end of the movie . . . it \r\n",
      "would have wrecked her potrayal . \r\n",
      "gina gershon was surprising to say the least as castor troy's mistreated girlfriend . . . . . make that * one of * castor troy's mistreated girlfriends . \r\n",
      "other movies would have used her character as just window dressing . . . a \r\n",
      "sex object , but instead her character is very strong and independent . \r\n",
      "dominique swain , who plays archer's daughter , also does a nice job , though her character is not as explored as much as allen's or gershon's . \r\n",
      "faults ? well . . . there were some i have to say . \r\n",
      "first , the movie's ending , whilst being very good overall , was a bit too drawn out for it's own good . \r\n",
      "after the two combatants begin duelling again after the final boat crash you can't help but think - \" geez , are you guys nuclear powered or what ? \" . \r\n",
      "there were certain bits that weren't handled properly , like where archer appears safe and sound on solid ground after jumping off the converted oil platform/prison - more explanation here would have been nice . \r\n",
      "overall , this movie was not perfect . \r\n",
      "but i thought it was about as close as an action movie has ever came to perfect . \r\n",
      "many critics have claimed that this movie will change the way action movies are made . . . . . i \r\n",
      "certainly hope so . \n"
     ]
    }
   ],
   "source": [
    "def Clean_data(data): \n",
    "    review = re.sub(r\"\\s+[a-zA-Z]\\s+\", \" \", dataset['review'][i])\n",
    "    review = re.sub(r\"^[a-zA-Z]\", \" \", dataset['review'][i])\n",
    "    review = re.sub(r\"[a-zA-Z]$\", \" \", dataset['review'][i])\n",
    "    review = re.sub(r\"\\W\", \" \", dataset['review'][i])\n",
    "    review = re.sub(r\"\\d\", \" \", dataset['review'][i])\n",
    "    review = re.sub(r\"\\s+\", \" \", dataset['review'][i])\n",
    "    review = re.sub(r\"^s+\", \" \", dataset['review'][i])\n",
    "    review = re.sub(r\"\\s+$\", \" \", dataset['review'][i])\n",
    "    review = review.lower()\n",
    "    return review\n",
    "          \n",
    "# Updated the city columns \n",
    "dataset['review'] = dataset['review'].apply(Clean_data) \n",
    "  \n",
    "# Print the updated dataframe \n",
    "print(dataset['review'][0]) "
   ]
  },
  {
   "cell_type": "code",
   "execution_count": 15,
   "metadata": {},
   "outputs": [],
   "source": [
    "#Tf - IDF Modelling\n",
    "tfidf = TfidfVectorizer(max_features = 2000, \n",
    "                        min_df = 3, \n",
    "                        max_df = 0.6,\n",
    "                        stop_words = stopwords.words('english'))\n",
    "X = tfidf.fit_transform(X).toarray()"
   ]
  },
  {
   "cell_type": "code",
   "execution_count": 16,
   "metadata": {},
   "outputs": [],
   "source": [
    " X_train, X_test, Y_train, Y_test = train_test_split(X, \n",
    "                                                     Y, \n",
    "                                                     test_size = 0.2, \n",
    "                                                     random_state = 101)"
   ]
  },
  {
   "cell_type": "code",
   "execution_count": 17,
   "metadata": {},
   "outputs": [
    {
     "name": "stdout",
     "output_type": "stream",
     "text": [
      "Size of X_train: (1550, 2000)\n",
      "Size of X_test: (388, 2000)\n",
      "Size of Y_train: (1550,)\n",
      "Size of Y_test: (388,)\n"
     ]
    }
   ],
   "source": [
    "print(\"Size of X_train: {}\".format(X_train.shape))\n",
    "print(\"Size of X_test: {}\".format(X_test.shape))\n",
    "print(\"Size of Y_train: {}\".format(Y_train.shape))\n",
    "print(\"Size of Y_test: {}\".format(Y_test.shape))"
   ]
  },
  {
   "cell_type": "markdown",
   "metadata": {},
   "source": [
    "# Logistic Regression Classifier"
   ]
  },
  {
   "cell_type": "code",
   "execution_count": 18,
   "metadata": {},
   "outputs": [
    {
     "name": "stdout",
     "output_type": "stream",
     "text": [
      "Time taken to complete random search:  0:00:00.297017\n"
     ]
    }
   ],
   "source": [
    "st=dt.now()\n",
    "logits = LogisticRegression(solver = 'liblinear')\n",
    "logits.fit(X_train, Y_train)\n",
    "print(\"Time taken to complete random search: \",dt.now()-st)"
   ]
  },
  {
   "cell_type": "code",
   "execution_count": 19,
   "metadata": {},
   "outputs": [],
   "source": [
    "pred_logits = logits.predict(X_test)"
   ]
  },
  {
   "cell_type": "code",
   "execution_count": 20,
   "metadata": {},
   "outputs": [
    {
     "name": "stdout",
     "output_type": "stream",
     "text": [
      "[[165  38]\n",
      " [ 26 159]] \n",
      "\n",
      "The accuracy is: 83.50515463917526% \n",
      " \n",
      "             precision    recall  f1-score   support\n",
      "\n",
      "        neg       0.86      0.81      0.84       203\n",
      "        pos       0.81      0.86      0.83       185\n",
      "\n",
      "avg / total       0.84      0.84      0.84       388\n",
      "\n"
     ]
    }
   ],
   "source": [
    "#Comparing the results\n",
    "cm = confusion_matrix(pred_logits, Y_test)\n",
    "print(cm, '\\n')\n",
    "logits_acc = accuracy_score(pred_logits, Y_test)\n",
    "print(\"The accuracy is: {}% \\n \".format(logits_acc*100))\n",
    "cr = classification_report(pred_logits, Y_test)\n",
    "print(cr)"
   ]
  },
  {
   "cell_type": "markdown",
   "metadata": {},
   "source": [
    "# K Nearest Neighbours Classifier"
   ]
  },
  {
   "cell_type": "code",
   "execution_count": 21,
   "metadata": {},
   "outputs": [
    {
     "name": "stdout",
     "output_type": "stream",
     "text": [
      "Time taken to complete random search:  0:00:01.087040\n"
     ]
    }
   ],
   "source": [
    "st=dt.now()\n",
    "knn = KNeighborsClassifier(n_neighbors = 5)\n",
    "knn.fit(X_train, Y_train)\n",
    "print(\"Time taken to complete random search: \",dt.now()-st)"
   ]
  },
  {
   "cell_type": "code",
   "execution_count": 22,
   "metadata": {},
   "outputs": [],
   "source": [
    "knn_pred = knn.predict(X_test)"
   ]
  },
  {
   "cell_type": "code",
   "execution_count": 23,
   "metadata": {},
   "outputs": [
    {
     "name": "stdout",
     "output_type": "stream",
     "text": [
      "[[125  49]\n",
      " [ 66 148]] \n",
      "\n",
      "The accuracy is: 70.36082474226805% \n",
      " \n",
      "             precision    recall  f1-score   support\n",
      "\n",
      "        neg       0.65      0.72      0.68       174\n",
      "        pos       0.75      0.69      0.72       214\n",
      "\n",
      "avg / total       0.71      0.70      0.70       388\n",
      "\n"
     ]
    }
   ],
   "source": [
    "#Comparing the results\n",
    "cm = confusion_matrix(knn_pred, Y_test)\n",
    "print(cm, '\\n')\n",
    "kacc = accuracy_score(knn_pred, Y_test)\n",
    "print(\"The accuracy is: {}% \\n \".format(kacc*100))\n",
    "cr = classification_report(knn_pred, Y_test)\n",
    "print(cr)"
   ]
  },
  {
   "cell_type": "markdown",
   "metadata": {},
   "source": [
    "# Liner Support Vector Classifier"
   ]
  },
  {
   "cell_type": "code",
   "execution_count": 24,
   "metadata": {},
   "outputs": [
    {
     "name": "stdout",
     "output_type": "stream",
     "text": [
      "Time taken to complete random search:  0:00:12.652375\n"
     ]
    }
   ],
   "source": [
    "st=dt.now()\n",
    "l_svc = SVC(kernel = 'linear')\n",
    "l_svc.fit(X_train, Y_train)\n",
    "print(\"Time taken to complete random search: \",dt.now()-st)"
   ]
  },
  {
   "cell_type": "code",
   "execution_count": 25,
   "metadata": {},
   "outputs": [],
   "source": [
    "l_pred = l_svc.predict(X_test)"
   ]
  },
  {
   "cell_type": "code",
   "execution_count": 26,
   "metadata": {},
   "outputs": [
    {
     "name": "stdout",
     "output_type": "stream",
     "text": [
      "[[159  42]\n",
      " [ 32 155]] \n",
      "\n",
      "The accuracy is: 80.9278350515464% \n",
      " \n",
      "             precision    recall  f1-score   support\n",
      "\n",
      "        neg       0.83      0.79      0.81       201\n",
      "        pos       0.79      0.83      0.81       187\n",
      "\n",
      "avg / total       0.81      0.81      0.81       388\n",
      "\n"
     ]
    }
   ],
   "source": [
    "#Comparing the results\n",
    "cm = confusion_matrix(l_pred, Y_test)\n",
    "print(cm, '\\n')\n",
    "lsvcacc = accuracy_score(l_pred, Y_test)\n",
    "print(\"The accuracy is: {}% \\n \".format(lsvcacc*100))\n",
    "cr = classification_report(l_pred, Y_test)\n",
    "print(cr)"
   ]
  },
  {
   "cell_type": "markdown",
   "metadata": {},
   "source": [
    "# Kernel SVM"
   ]
  },
  {
   "cell_type": "code",
   "execution_count": 27,
   "metadata": {},
   "outputs": [
    {
     "name": "stdout",
     "output_type": "stream",
     "text": [
      "Time taken to complete random search:  0:00:15.814349\n"
     ]
    }
   ],
   "source": [
    "st=dt.now()\n",
    "gk_svc = SVC(kernel = 'rbf')\n",
    "gk_svc.fit(X_train, Y_train)\n",
    "print(\"Time taken to complete random search: \",dt.now()-st)"
   ]
  },
  {
   "cell_type": "code",
   "execution_count": 28,
   "metadata": {},
   "outputs": [],
   "source": [
    "gk_pred = gk_svc.predict(X_test)"
   ]
  },
  {
   "cell_type": "code",
   "execution_count": 29,
   "metadata": {},
   "outputs": [
    {
     "name": "stdout",
     "output_type": "stream",
     "text": [
      "[[191 197]\n",
      " [  0   0]] \n",
      "\n",
      "The accuracy is: 49.22680412371135% \n",
      " \n",
      "             precision    recall  f1-score   support\n",
      "\n",
      "        neg       1.00      0.49      0.66       388\n",
      "        pos       0.00      0.00      0.00         0\n",
      "\n",
      "avg / total       1.00      0.49      0.66       388\n",
      "\n"
     ]
    }
   ],
   "source": [
    "#Comparing the results\n",
    "cm = confusion_matrix(gk_pred, Y_test)\n",
    "print(cm, '\\n')\n",
    "ksvcaccacc = accuracy_score(gk_pred, Y_test)\n",
    "print(\"The accuracy is: {}% \\n \".format(ksvcaccacc*100))\n",
    "cr = classification_report(gk_pred, Y_test)\n",
    "print(cr)"
   ]
  },
  {
   "cell_type": "markdown",
   "metadata": {},
   "source": [
    "# Random Forest Classifier"
   ]
  },
  {
   "cell_type": "code",
   "execution_count": 30,
   "metadata": {},
   "outputs": [
    {
     "name": "stdout",
     "output_type": "stream",
     "text": [
      "Time taken to complete random search:  0:00:10.568556\n"
     ]
    }
   ],
   "source": [
    "st=dt.now()\n",
    "randomforest = RandomForestClassifier(n_estimators = 100, \n",
    "                                      random_state = 0)\n",
    "randomforest.fit(X_train, Y_train)\n",
    "print(\"Time taken to complete random search: \",dt.now()-st)"
   ]
  },
  {
   "cell_type": "code",
   "execution_count": 31,
   "metadata": {},
   "outputs": [],
   "source": [
    "random_pred = randomforest.predict(X_test)"
   ]
  },
  {
   "cell_type": "code",
   "execution_count": 32,
   "metadata": {
    "scrolled": true
   },
   "outputs": [
    {
     "name": "stdout",
     "output_type": "stream",
     "text": [
      "[[161  58]\n",
      " [ 30 139]] \n",
      "\n",
      "The accuracy is: 77.31958762886599% \n",
      " \n",
      "             precision    recall  f1-score   support\n",
      "\n",
      "        neg       0.84      0.74      0.79       219\n",
      "        pos       0.71      0.82      0.76       169\n",
      "\n",
      "avg / total       0.78      0.77      0.77       388\n",
      "\n"
     ]
    }
   ],
   "source": [
    "#Comparing the results\n",
    "cm = confusion_matrix(random_pred, Y_test)\n",
    "print(cm, '\\n')\n",
    "rmacc = accuracy_score(random_pred, Y_test)\n",
    "print(\"The accuracy is: {}% \\n \".format(rmacc*100))\n",
    "cr = classification_report(random_pred, Y_test)\n",
    "print(cr)"
   ]
  },
  {
   "cell_type": "markdown",
   "metadata": {},
   "source": [
    "# Decision Tree Classifier"
   ]
  },
  {
   "cell_type": "code",
   "execution_count": 33,
   "metadata": {},
   "outputs": [
    {
     "name": "stdout",
     "output_type": "stream",
     "text": [
      "Time taken to complete random search:  0:00:05.240290\n"
     ]
    }
   ],
   "source": [
    "st=dt.now()\n",
    "decison = DecisionTreeClassifier(criterion = 'entropy', \n",
    "                                 random_state = 0)\n",
    "decison.fit(X_train, Y_train)\n",
    "print(\"Time taken to complete random search: \",dt.now()-st)"
   ]
  },
  {
   "cell_type": "code",
   "execution_count": 34,
   "metadata": {},
   "outputs": [],
   "source": [
    "decison_pred = decison.predict(X_test)"
   ]
  },
  {
   "cell_type": "code",
   "execution_count": 35,
   "metadata": {},
   "outputs": [
    {
     "name": "stdout",
     "output_type": "stream",
     "text": [
      "[[118  75]\n",
      " [ 73 122]] \n",
      "\n",
      "The accuracy is: 61.855670103092784% \n",
      " \n",
      "             precision    recall  f1-score   support\n",
      "\n",
      "        neg       0.62      0.61      0.61       193\n",
      "        pos       0.62      0.63      0.62       195\n",
      "\n",
      "avg / total       0.62      0.62      0.62       388\n",
      "\n"
     ]
    }
   ],
   "source": [
    "#Comparing the results\n",
    "cm = confusion_matrix(decison_pred, Y_test)\n",
    "print(cm, '\\n')\n",
    "dtacc = accuracy_score(decison_pred, Y_test)\n",
    "print(\"The accuracy is: {}% \\n \".format(dtacc*100))\n",
    "cr = classification_report(decison_pred, Y_test)\n",
    "print(cr)"
   ]
  },
  {
   "cell_type": "markdown",
   "metadata": {},
   "source": [
    "# BernoulliNB Classifier"
   ]
  },
  {
   "cell_type": "code",
   "execution_count": 36,
   "metadata": {},
   "outputs": [
    {
     "name": "stdout",
     "output_type": "stream",
     "text": [
      "Time taken to complete random search:  0:00:00.429025\n"
     ]
    }
   ],
   "source": [
    "st=dt.now()\n",
    "bernb = BernoulliNB()\n",
    "bernb.fit(X_train, Y_train)\n",
    "print(\"Time taken to complete random search: \",dt.now()-st)"
   ]
  },
  {
   "cell_type": "code",
   "execution_count": 37,
   "metadata": {},
   "outputs": [],
   "source": [
    "bernb_predict = bernb.predict(X_test)"
   ]
  },
  {
   "cell_type": "code",
   "execution_count": 38,
   "metadata": {},
   "outputs": [
    {
     "name": "stdout",
     "output_type": "stream",
     "text": [
      "[[164  42]\n",
      " [ 27 155]] \n",
      "\n",
      "The accuracy is: 82.21649484536083% \n",
      " \n",
      "             precision    recall  f1-score   support\n",
      "\n",
      "        neg       0.86      0.80      0.83       206\n",
      "        pos       0.79      0.85      0.82       182\n",
      "\n",
      "avg / total       0.82      0.82      0.82       388\n",
      "\n"
     ]
    }
   ],
   "source": [
    "#Comparing the results\n",
    "cm = confusion_matrix(bernb_predict, Y_test)\n",
    "print(cm, '\\n')\n",
    "bncacc = accuracy_score(bernb_predict, Y_test)\n",
    "print(\"The accuracy is: {}% \\n \".format(bncacc*100))\n",
    "cr = classification_report(bernb_predict, Y_test)\n",
    "print(cr)"
   ]
  },
  {
   "cell_type": "markdown",
   "metadata": {},
   "source": [
    "# MultinomialNB Classifier"
   ]
  },
  {
   "cell_type": "code",
   "execution_count": 39,
   "metadata": {},
   "outputs": [
    {
     "name": "stdout",
     "output_type": "stream",
     "text": [
      "Time taken to complete random search:  0:00:00.133008\n"
     ]
    }
   ],
   "source": [
    "st=dt.now()\n",
    "mulnb = MultinomialNB()\n",
    "mulnb.fit(X_train, Y_train)\n",
    "print(\"Time taken to complete random search: \",dt.now()-st)"
   ]
  },
  {
   "cell_type": "code",
   "execution_count": 40,
   "metadata": {},
   "outputs": [],
   "source": [
    "mulnb_predict = mulnb.predict(X_test)"
   ]
  },
  {
   "cell_type": "code",
   "execution_count": 41,
   "metadata": {},
   "outputs": [
    {
     "name": "stdout",
     "output_type": "stream",
     "text": [
      "[[164  44]\n",
      " [ 27 153]] \n",
      "\n",
      "The accuracy is: 81.70103092783505% \n",
      " \n",
      "             precision    recall  f1-score   support\n",
      "\n",
      "        neg       0.86      0.79      0.82       208\n",
      "        pos       0.78      0.85      0.81       180\n",
      "\n",
      "avg / total       0.82      0.82      0.82       388\n",
      "\n"
     ]
    }
   ],
   "source": [
    "#Comparing the results\n",
    "cm = confusion_matrix(mulnb_predict, Y_test)\n",
    "print(cm, '\\n')\n",
    "mulacc = accuracy_score(mulnb_predict, Y_test)\n",
    "print(\"The accuracy is: {}% \\n \".format(mulacc*100))\n",
    "cr = classification_report(mulnb_predict, Y_test)\n",
    "print(cr)"
   ]
  },
  {
   "cell_type": "code",
   "execution_count": 42,
   "metadata": {},
   "outputs": [
    {
     "name": "stdout",
     "output_type": "stream",
     "text": [
      "\n",
      "                             Accuracy\n",
      "                            -------------\n",
      "Logistic Regression        : 83.51 %\n",
      "KNN Classifier             : 70.36 %\n",
      "Linear SVC                 : 80.93 %\n",
      "Gaussian Kernel SVC        : 49.23 %\n",
      "Decision Trees Classifier  : 61.86 %\n",
      "Random Forest Classifier   : 77.32 %\n",
      "BernoulliNB Classifier     : 82.22 %\n",
      "MultinomialNB Classifier   : 81.7 %\n"
     ]
    }
   ],
   "source": [
    "print('\\n                             Accuracy')\n",
    "print('                            -------------')\n",
    "\n",
    "print('Logistic Regression        : {:.04} %'.format(logits_acc * 100))\n",
    "print('KNN Classifier             : {:.04} %'.format(kacc * 100))\n",
    "print('Linear SVC                 : {:.04} %'.format(lsvcacc * 100))\n",
    "print('Gaussian Kernel SVC        : {:.04} %'.format(ksvcaccacc * 100))\n",
    "print('Decision Trees Classifier  : {:.04} %'.format(dtacc * 100))\n",
    "print('Random Forest Classifier   : {:.04} %'.format(rmacc * 100))\n",
    "print('BernoulliNB Classifier     : {:.04} %'.format(bncacc * 100))\n",
    "print('MultinomialNB Classifier   : {:.04} %'.format(mulacc * 100))"
   ]
  },
  {
   "cell_type": "code",
   "execution_count": 43,
   "metadata": {},
   "outputs": [
    {
     "data": {
      "text/plain": [
       "Text(0.5,1,'Accuracy Comparism')"
      ]
     },
     "execution_count": 43,
     "metadata": {},
     "output_type": "execute_result"
    },
    {
     "data": {
      "image/png": "[encoded data removed]",
      "text/plain": [
       "<Figure size 1080x720 with 1 Axes>"
      ]
     },
     "metadata": {},
     "output_type": "display_data"
    }
   ],
   "source": [
    "figure = plt.figure(figsize=(15, 10))\n",
    "# Visualizing the results\n",
    "objects = ['Logistic Regression',\n",
    "           'KNN', \n",
    "           'Linear SVC', \n",
    "           'Gaussian SVC', \n",
    "           'Decision Trees', \n",
    "           'Random Forest', \n",
    "           'BernoulliNB', \n",
    "           'MultinomialNB']\n",
    "y_pos = np.arange(len(objects))\n",
    "plt.bar(y_pos,[logits_acc,kacc,lsvcacc,ksvcaccacc,dtacc,rmacc,bncacc,mulacc],alpha=0.5)\n",
    "plt.xticks(y_pos,objects)\n",
    "plt.ylabel('Number')\n",
    "plt.title('Accuracy Comparism')"
   ]
  },
  {
   "cell_type": "code",
   "execution_count": 44,
   "metadata": {},
   "outputs": [
    {
     "name": "stdout",
     "output_type": "stream",
     "text": [
      "Total Time Taken: 102.49089121818542\n"
     ]
    }
   ],
   "source": [
    "end = time.time()\n",
    "print(\"Total Time Taken: {}\".format(end-start))"
   ]
  },
  {
   "cell_type": "markdown",
   "metadata": {},
   "source": [
    "# Saving Our Model and the Classifier"
   ]
  },
  {
   "cell_type": "code",
   "execution_count": 47,
   "metadata": {},
   "outputs": [],
   "source": [
    "with open('logits.pickle', 'wb') as f:\n",
    "    pickle.dump(logits, f)\n",
    "    \n",
    "# Saving the Tf-Idf model\n",
    "with open('tfidf.pickle','wb') as f:\n",
    "    pickle.dump(tfidf,f)"
   ]
  },
  {
   "cell_type": "code",
   "execution_count": null,
   "metadata": {},
   "outputs": [],
   "source": []
  }
 ],
 "metadata": {
  "kernelspec": {
   "display_name": "Python 3",
   "language": "python",
   "name": "python3"
  },
  "language_info": {
   "codemirror_mode": {
    "name": "ipython",
    "version": 3
   },
   "file_extension": ".py",
   "mimetype": "text/x-python",
   "name": "python",
   "nbconvert_exporter": "python",
   "pygments_lexer": "ipython3",
   "version": "3.6.5"
  }
 },
 "nbformat": 4,
 "nbformat_minor": 2
}
